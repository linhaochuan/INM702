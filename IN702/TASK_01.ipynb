{
 "cells": [
  {
   "cell_type": "code",
   "execution_count": 64,
   "id": "cc009f57",
   "metadata": {},
   "outputs": [],
   "source": [
    "import numpy as np\n",
    "from termcolor import colored\n",
    "import math"
   ]
  },
  {
   "cell_type": "markdown",
   "id": "44211a44",
   "metadata": {},
   "source": [
    "### First make the grid"
   ]
  },
  {
   "cell_type": "code",
   "execution_count": 2,
   "id": "466f7712",
   "metadata": {},
   "outputs": [],
   "source": [
    "np.random.seed(10)"
   ]
  },
  {
   "cell_type": "code",
   "execution_count": 6,
   "id": "8e10d6fa",
   "metadata": {},
   "outputs": [],
   "source": [
    "def make_grid(x, y, n):\n",
    "    return np.random.randint(0, n, (x, y))"
   ]
  },
  {
   "cell_type": "code",
   "execution_count": 113,
   "id": "7064aba8",
   "metadata": {},
   "outputs": [],
   "source": [
    "scorings = ['relative', 'difference']\n",
    "directions = [(x, y) for x in (-1, 0 ,1) for y in (-1, 0, 1)]\n",
    "\n",
    "class Game:\n",
    "    def __init__(self, x, y, n, scoring, seed=10):\n",
    "        np.random.seed(seed)\n",
    "        self.width = y\n",
    "        self.height = x\n",
    "        self.game_state = {'grid': make_grid(x,y,n), 'score':0}\n",
    "        self.is_end = False\n",
    "        self.agent_state = {'pos': (0,0), 'history':set()}\n",
    "        assert scoring in scorings\n",
    "        self.scoring = scoring\n",
    "        \n",
    "    def step(self, velocity):\n",
    "        if self.is_end:\n",
    "            return\n",
    "        # make sure direction is valid\n",
    "        assert velocity in directions\n",
    "        grid = self.game_state['grid']\n",
    "        x, y = self.agent_state['pos']\n",
    "        pos_t = (x + velocity[0], y + velocity[1])\n",
    "        # make sure new position is inside grid\n",
    "        if (pos_t[0] >= self.height or pos_t[0] < 0) or (pos_t[1] >= self.width or pos_t[1] < 0):\n",
    "            pass\n",
    "        else:\n",
    "            # update position\n",
    "            self.agent_state['history'].add((x,y))\n",
    "            self.agent_state['pos'] = pos_t\n",
    "            # update score\n",
    "            if self.scoring == 'relative':\n",
    "                self.game_state['score'] += grid[x, y]\n",
    "            elif self.scoring == 'difference':\n",
    "                self.game_state['score'] += (math.abs(grid[x, y] - grid[pos_t[0], pos_t[1]]))\n",
    "            \n",
    "            self.show_path()\n",
    "            if (pos_t == (self.height, self.width)):\n",
    "                self.is_end = true      \n",
    "                \n",
    "    \n",
    "    def show_grid(self):\n",
    "        print('GAME GRID')\n",
    "        grid = self.game_state['grid']\n",
    "        for i in range(grid.shape[0]):\n",
    "            print('| ', end='')\n",
    "            for j in range(grid.shape[1]):\n",
    "                print(colored(grid[i, j],'red'), end=' | ')\n",
    "            print('\\n')\n",
    "    \n",
    "    def show_path(self):\n",
    "        score = self.game_state['score']\n",
    "        print(f'GAME GRID WITH PATH\\nSCORE: {score}')\n",
    "        grid = self.game_state['grid']\n",
    "        path = self.agent_state['history']\n",
    "        for i in range(grid.shape[0]):\n",
    "            print('| ', end='')\n",
    "            for j in range(grid.shape[1]):\n",
    "                if ((i, j) in path):\n",
    "                    print(colored(grid[i, j], 'green'), end=' | ')\n",
    "                elif (i, j) == self.agent_state['pos']:\n",
    "                    print(''+colored(grid[i,j], 'red')+colored('*', 'blue'),end='| ')\n",
    "                else: \n",
    "                    print(colored(grid[i, j], 'red'), end=' | ')\n",
    "            print('\\n')"
   ]
  },
  {
   "cell_type": "code",
   "execution_count": 114,
   "id": "8385e6d8",
   "metadata": {},
   "outputs": [
    {
     "name": "stdout",
     "output_type": "stream",
     "text": [
      "GAME GRID\n",
      "| \u001b[31m9\u001b[0m | \u001b[31m4\u001b[0m | \u001b[31m0\u001b[0m | \n",
      "\n",
      "| \u001b[31m1\u001b[0m | \u001b[31m9\u001b[0m | \u001b[31m0\u001b[0m | \n",
      "\n",
      "| \u001b[31m1\u001b[0m | \u001b[31m8\u001b[0m | \u001b[31m9\u001b[0m | \n",
      "\n",
      "GAME GRID WITH PATH\n",
      "SCORE: 0\n",
      "| \u001b[31m9\u001b[0m\u001b[34m*\u001b[0m| \u001b[31m4\u001b[0m | \u001b[31m0\u001b[0m | \n",
      "\n",
      "| \u001b[31m1\u001b[0m | \u001b[31m9\u001b[0m | \u001b[31m0\u001b[0m | \n",
      "\n",
      "| \u001b[31m1\u001b[0m | \u001b[31m8\u001b[0m | \u001b[31m9\u001b[0m | \n",
      "\n"
     ]
    }
   ],
   "source": [
    "game =  Game(3,3,10, 'relative')\n",
    "game.show_grid()\n",
    "game.show_path()"
   ]
  },
  {
   "cell_type": "code",
   "execution_count": 115,
   "id": "2f285177",
   "metadata": {},
   "outputs": [
    {
     "name": "stdout",
     "output_type": "stream",
     "text": [
      "GAME GRID WITH PATH\n",
      "SCORE: 9\n",
      "| \u001b[32m9\u001b[0m | \u001b[31m4\u001b[0m\u001b[34m*\u001b[0m| \u001b[31m0\u001b[0m | \n",
      "\n",
      "| \u001b[31m1\u001b[0m | \u001b[31m9\u001b[0m | \u001b[31m0\u001b[0m | \n",
      "\n",
      "| \u001b[31m1\u001b[0m | \u001b[31m8\u001b[0m | \u001b[31m9\u001b[0m | \n",
      "\n"
     ]
    }
   ],
   "source": [
    "game.step((0,1))"
   ]
  },
  {
   "cell_type": "code",
   "execution_count": 116,
   "id": "d4fa33f1",
   "metadata": {},
   "outputs": [
    {
     "name": "stdout",
     "output_type": "stream",
     "text": [
      "GAME GRID WITH PATH\n",
      "SCORE: 13\n",
      "| \u001b[32m9\u001b[0m | \u001b[32m4\u001b[0m | \u001b[31m0\u001b[0m\u001b[34m*\u001b[0m| \n",
      "\n",
      "| \u001b[31m1\u001b[0m | \u001b[31m9\u001b[0m | \u001b[31m0\u001b[0m | \n",
      "\n",
      "| \u001b[31m1\u001b[0m | \u001b[31m8\u001b[0m | \u001b[31m9\u001b[0m | \n",
      "\n"
     ]
    }
   ],
   "source": [
    "game.step((0,1))"
   ]
  },
  {
   "cell_type": "code",
   "execution_count": null,
   "id": "af31c721",
   "metadata": {},
   "outputs": [],
   "source": []
  }
 ],
 "metadata": {
  "kernelspec": {
   "display_name": "Python 3",
   "language": "python",
   "name": "python3"
  },
  "language_info": {
   "codemirror_mode": {
    "name": "ipython",
    "version": 3
   },
   "file_extension": ".py",
   "mimetype": "text/x-python",
   "name": "python",
   "nbconvert_exporter": "python",
   "pygments_lexer": "ipython3",
   "version": "3.8.8"
  }
 },
 "nbformat": 4,
 "nbformat_minor": 5
}
