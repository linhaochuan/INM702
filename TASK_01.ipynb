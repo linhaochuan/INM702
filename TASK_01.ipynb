{
 "cells": [
  {
   "cell_type": "code",
   "execution_count": 17,
   "id": "cc009f57",
   "metadata": {},
   "outputs": [],
   "source": [
    "import numpy as np\n",
    "from termcolor import colored\n",
    "import math"
   ]
  },
  {
   "cell_type": "markdown",
   "id": "44211a44",
   "metadata": {},
   "source": [
    "### 1. Game implementation"
   ]
  },
  {
   "cell_type": "code",
   "execution_count": 18,
   "id": "466f7712",
   "metadata": {},
   "outputs": [],
   "source": [
    "np.random.seed(10)"
   ]
  },
  {
   "cell_type": "markdown",
   "id": "17156647",
   "metadata": {},
   "source": [
    "### Reference for the Random seed: https://www.w3schools.com/python/ref_random_seed.asp"
   ]
  },
  {
   "cell_type": "code",
   "execution_count": 19,
   "id": "8e10d6fa",
   "metadata": {},
   "outputs": [],
   "source": [
    "def make_grid(x, y, n):\n",
    "    return np.random.randint(0, n, (x, y))"
   ]
  },
  {
   "cell_type": "code",
   "execution_count": 20,
   "id": "7064aba8",
   "metadata": {},
   "outputs": [],
   "source": [
    "scorings = ['relative', 'difference']\n",
    "directions = [(x, y) for x in (-1, 0 ,1) for y in (-1, 0, 1)]\n",
    "\n",
    "class Game:\n",
    "    def __init__(self, x, y, n, scoring, seed=10):\n",
    "        np.random.seed(seed)\n",
    "        self.width = y\n",
    "        self.height = x\n",
    "        self.game_state = {'grid': make_grid(x,y,n), 'score': 0, 'seen': np.zeros((x,y))}\n",
    "        self.is_end = False\n",
    "        self.agent_state = {'pos': (0,0), 'history':set()}\n",
    "        assert scoring in scorings\n",
    "        self.scoring = scoring\n",
    "        \n",
    "    def step(self, velocity):\n",
    "        if self.is_end:\n",
    "            return\n",
    "        # make sure direction is valid\n",
    "        assert velocity in directions\n",
    "        grid = self.game_state['grid']\n",
    "        x, y = self.agent_state['pos']\n",
    "        pos_t = (x + velocity[0], y + velocity[1])\n",
    "        # make sure new position is inside grid\n",
    "        if (pos_t[0] >= self.height or pos_t[0] < 0) or (pos_t[1] >= self.width or pos_t[1] < 0):\n",
    "            return\n",
    "        else:\n",
    "            # update position\n",
    "            self.agent_state['history'].add((x,y))\n",
    "            self.agent_state['pos'] = pos_t\n",
    "            self.game_state['seen'][pos_t] = 1\n",
    "            # update score\n",
    "            if self.scoring == 'relative':\n",
    "                self.game_state['score'] += grid[x, y]\n",
    "            elif self.scoring == 'difference':\n",
    "                self.game_state['score'] += (math.abs(grid[x, y] - grid[pos_t[0], pos_t[1]]))\n",
    "            \n",
    "            # self.show_path()\n",
    "            if (pos_t == (self.height, self.width)):\n",
    "                self.is_end = true      \n",
    "                \n",
    "    def get_neighbours(self):\n",
    "        grid = self.game_state['grid']\n",
    "        x, y = self.agent_state['pos']\n",
    "        visited = self.game_state['seen']\n",
    "        neighbours = dict()\n",
    "        for pos in directions:\n",
    "            x, y = self.agent_state['pos']\n",
    "            x += pos[0]\n",
    "            y += pos[1]\n",
    "            if not ((x >= self.height or x < 0) or (y >= self.width or y < 0)) and pos != (0,0) and visited[x,y] == 0:\n",
    "                neighbours[(x,y)] = grid[x][y]\n",
    "        return neighbours\n",
    "        \n",
    "    def show_grid(self):\n",
    "        print('GAME GRID')\n",
    "        grid = self.game_state['grid']\n",
    "        for i in range(grid.shape[0]):\n",
    "            print('| ', end='')\n",
    "            for j in range(grid.shape[1]):\n",
    "                print(colored(grid[i, j],'red'), end=' | ')\n",
    "            print('\\n')\n",
    "    \n",
    "    def show_path(self):\n",
    "        score = self.game_state['score']\n",
    "        print(f'GAME GRID WITH PATH\\nSCORE: {score}')\n",
    "        grid = self.game_state['grid']\n",
    "        path = self.agent_state['history']\n",
    "        for i in range(grid.shape[0]):\n",
    "            print('| ', end='')\n",
    "            for j in range(grid.shape[1]):\n",
    "                if ((i, j) in path):\n",
    "                    print(colored(grid[i, j], 'green'), end=' | ')\n",
    "                elif (i, j) == self.agent_state['pos']:\n",
    "                    print(''+colored(grid[i,j], 'red')+colored('*', 'blue'),end='| ')\n",
    "                else: \n",
    "                    print(colored(grid[i, j], 'red'), end=' | ')\n",
    "            print('\\n')\n",
    "            \n",
    "    "
   ]
  },
  {
   "cell_type": "code",
   "execution_count": 27,
   "id": "8385e6d8",
   "metadata": {},
   "outputs": [
    {
     "name": "stdout",
     "output_type": "stream",
     "text": [
      "GAME GRID\n",
      "| \u001b[31m9\u001b[0m | \u001b[31m4\u001b[0m | \u001b[31m0\u001b[0m | \n",
      "\n",
      "| \u001b[31m1\u001b[0m | \u001b[31m9\u001b[0m | \u001b[31m0\u001b[0m | \n",
      "\n",
      "| \u001b[31m1\u001b[0m | \u001b[31m8\u001b[0m | \u001b[31m9\u001b[0m | \n",
      "\n",
      "GAME GRID WITH PATH\n",
      "SCORE: 0\n",
      "| \u001b[31m9\u001b[0m\u001b[34m*\u001b[0m| \u001b[31m4\u001b[0m | \u001b[31m0\u001b[0m | \n",
      "\n",
      "| \u001b[31m1\u001b[0m | \u001b[31m9\u001b[0m | \u001b[31m0\u001b[0m | \n",
      "\n",
      "| \u001b[31m1\u001b[0m | \u001b[31m8\u001b[0m | \u001b[31m9\u001b[0m | \n",
      "\n"
     ]
    }
   ],
   "source": [
    "game =  Game(3,3,10, 'relative')\n",
    "game.show_grid()\n",
    "game.show_path()"
   ]
  },
  {
   "cell_type": "code",
   "execution_count": 22,
   "id": "2f285177",
   "metadata": {},
   "outputs": [
    {
     "name": "stdout",
     "output_type": "stream",
     "text": [
      "GAME GRID WITH PATH\n",
      "SCORE: 9\n",
      "| \u001b[32m9\u001b[0m | \u001b[31m4\u001b[0m\u001b[34m*\u001b[0m| \u001b[31m0\u001b[0m | \n",
      "\n",
      "| \u001b[31m1\u001b[0m | \u001b[31m9\u001b[0m | \u001b[31m0\u001b[0m | \n",
      "\n",
      "| \u001b[31m1\u001b[0m | \u001b[31m8\u001b[0m | \u001b[31m9\u001b[0m | \n",
      "\n"
     ]
    }
   ],
   "source": [
    "game.step((0,1))\n",
    "game.show_path()"
   ]
  },
  {
   "cell_type": "code",
   "execution_count": 23,
   "id": "d4fa33f1",
   "metadata": {},
   "outputs": [
    {
     "name": "stdout",
     "output_type": "stream",
     "text": [
      "GAME GRID WITH PATH\n",
      "SCORE: 13\n",
      "| \u001b[32m9\u001b[0m | \u001b[32m4\u001b[0m | \u001b[31m0\u001b[0m\u001b[34m*\u001b[0m| \n",
      "\n",
      "| \u001b[31m1\u001b[0m | \u001b[31m9\u001b[0m | \u001b[31m0\u001b[0m | \n",
      "\n",
      "| \u001b[31m1\u001b[0m | \u001b[31m8\u001b[0m | \u001b[31m9\u001b[0m | \n",
      "\n"
     ]
    }
   ],
   "source": [
    "game.step((0,1))\n",
    "game.show_path()"
   ]
  },
  {
   "cell_type": "markdown",
   "id": "a865e66e-5e8f-479c-a0d5-407d6c8a1834",
   "metadata": {},
   "source": [
    "### 2. Heuristic algorithm\n",
    "\n",
    "We will implement a greedy strategy that attempts maximise the short term reward of the agent by always moving first to cells that in the direction of the endpoint that have the shortest path values."
   ]
  },
  {
   "cell_type": "code",
   "execution_count": 24,
   "id": "cd9ac29b-16a4-4dcc-8830-d4d60c307f0a",
   "metadata": {},
   "outputs": [
    {
     "name": "stdout",
     "output_type": "stream",
     "text": [
      "GAME GRID WITH PATH\n",
      "SCORE: 0\n",
      "| \u001b[31m9\u001b[0m\u001b[34m*\u001b[0m| \u001b[31m4\u001b[0m | \u001b[31m0\u001b[0m | \n",
      "\n",
      "| \u001b[31m1\u001b[0m | \u001b[31m9\u001b[0m | \u001b[31m0\u001b[0m | \n",
      "\n",
      "| \u001b[31m1\u001b[0m | \u001b[31m8\u001b[0m | \u001b[31m9\u001b[0m | \n",
      "\n"
     ]
    },
    {
     "data": {
      "text/plain": [
       "{(0, 1): 4, (1, 0): 1, (1, 1): 9}"
      ]
     },
     "execution_count": 24,
     "metadata": {},
     "output_type": "execute_result"
    }
   ],
   "source": [
    "game =  Game(3,3,10, 'relative')\n",
    "game.show_path()\n",
    "game.get_neighbours()"
   ]
  },
  {
   "cell_type": "code",
   "execution_count": 25,
   "id": "bd719d53-450c-4f6f-b341-77d506bc3a5e",
   "metadata": {},
   "outputs": [
    {
     "name": "stdout",
     "output_type": "stream",
     "text": [
      "GAME GRID WITH PATH\n",
      "SCORE: 0\n",
      "| \u001b[31m9\u001b[0m\u001b[34m*\u001b[0m| \u001b[31m4\u001b[0m | \u001b[31m0\u001b[0m | \n",
      "\n",
      "| \u001b[31m1\u001b[0m | \u001b[31m9\u001b[0m | \u001b[31m0\u001b[0m | \n",
      "\n",
      "| \u001b[31m1\u001b[0m | \u001b[31m8\u001b[0m | \u001b[31m9\u001b[0m | \n",
      "\n"
     ]
    }
   ],
   "source": [
    "while (not game.is_end):\n",
    "    neighbours = game.get_neighbours()\n",
    "    # first sort moves based on actual distance to end\n",
    "    \n",
    "    game.show_path()\n",
    "    break"
   ]
  },
  {
   "cell_type": "markdown",
   "id": "23bc3f13-b624-4692-afd3-0bb69ae51c03",
   "metadata": {},
   "source": [
    "### 3. Djikstras\n"
   ]
  },
  {
   "cell_type": "markdown",
   "id": "9010a343-99a0-44c9-ab98-17e0e6410348",
   "metadata": {},
   "source": [
    "For each cell in the grid, we need to work out every possible path to it, and the score of such path. We start with the first cell, then work out the next cells it can reach and recursively keep applying this until we have data for all cells.  Once this is complete, we start the end cell and select the next cell in the grid that has the shortest total path, then repeat until we have a path to the origin."
   ]
  }
 ],
 "metadata": {
  "kernelspec": {
   "display_name": "Python 3",
   "language": "python",
   "name": "python3"
  },
  "language_info": {
   "codemirror_mode": {
    "name": "ipython",
    "version": 3
   },
   "file_extension": ".py",
   "mimetype": "text/x-python",
   "name": "python",
   "nbconvert_exporter": "python",
   "pygments_lexer": "ipython3",
   "version": "3.8.8"
  }
 },
 "nbformat": 4,
 "nbformat_minor": 5
}
